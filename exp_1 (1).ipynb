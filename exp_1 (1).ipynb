{
  "cells": [
    {
      "cell_type": "markdown",
      "source": [],
      "metadata": {
        "id": "tVza9VpEiDgD"
      },
      "id": "tVza9VpEiDgD"
    },
    {
      "cell_type": "code",
      "source": [
        "#kabeer Latane exp_1 \n"
      ],
      "metadata": {
        "id": "tlJL4VR7iDOV"
      },
      "id": "tlJL4VR7iDOV",
      "execution_count": null,
      "outputs": []
    },
    {
      "cell_type": "code",
      "execution_count": null,
      "id": "e77134d8",
      "metadata": {
        "id": "e77134d8"
      },
      "outputs": [],
      "source": [
        "import numpy as np\n",
        "import matplotlib.pyplot as plt\n",
        "import cv2\n",
        "%matplotlib inline"
      ]
    },
    {
      "cell_type": "code",
      "source": [
        "img = cv2.imread(\"img_1.jpeg\")\n"
      ],
      "metadata": {
        "id": "NxKYMRznQKzb"
      },
      "id": "NxKYMRznQKzb",
      "execution_count": null,
      "outputs": []
    },
    {
      "cell_type": "code",
      "source": [
        "plt.imshow(img)"
      ],
      "metadata": {
        "id": "IF0fby9-QOlc",
        "colab": {
          "base_uri": "https://localhost:8080/",
          "height": 563
        },
        "outputId": "37ac66b8-c000-4075-edd3-5e1cc76f0ed4"
      },
      "id": "IF0fby9-QOlc",
      "execution_count": null,
      "outputs": [
        {
          "output_type": "error",
          "ename": "TypeError",
          "evalue": "ignored",
          "traceback": [
            "\u001b[0;31m---------------------------------------------------------------------------\u001b[0m",
            "\u001b[0;31mTypeError\u001b[0m                                 Traceback (most recent call last)",
            "\u001b[0;32m<ipython-input-4-23af6c37b3d0>\u001b[0m in \u001b[0;36m<module>\u001b[0;34m\u001b[0m\n\u001b[0;32m----> 1\u001b[0;31m \u001b[0mplt\u001b[0m\u001b[0;34m.\u001b[0m\u001b[0mimshow\u001b[0m\u001b[0;34m(\u001b[0m\u001b[0mimg\u001b[0m\u001b[0;34m)\u001b[0m\u001b[0;34m\u001b[0m\u001b[0;34m\u001b[0m\u001b[0m\n\u001b[0m",
            "\u001b[0;32m/usr/local/lib/python3.8/dist-packages/matplotlib/pyplot.py\u001b[0m in \u001b[0;36mimshow\u001b[0;34m(X, cmap, norm, aspect, interpolation, alpha, vmin, vmax, origin, extent, shape, filternorm, filterrad, imlim, resample, url, data, **kwargs)\u001b[0m\n\u001b[1;32m   2643\u001b[0m         \u001b[0mfilterrad\u001b[0m\u001b[0;34m=\u001b[0m\u001b[0;36m4.0\u001b[0m\u001b[0;34m,\u001b[0m \u001b[0mimlim\u001b[0m\u001b[0;34m=\u001b[0m\u001b[0mcbook\u001b[0m\u001b[0;34m.\u001b[0m\u001b[0mdeprecation\u001b[0m\u001b[0;34m.\u001b[0m\u001b[0m_deprecated_parameter\u001b[0m\u001b[0;34m,\u001b[0m\u001b[0;34m\u001b[0m\u001b[0;34m\u001b[0m\u001b[0m\n\u001b[1;32m   2644\u001b[0m         resample=None, url=None, *, data=None, **kwargs):\n\u001b[0;32m-> 2645\u001b[0;31m     __ret = gca().imshow(\n\u001b[0m\u001b[1;32m   2646\u001b[0m         \u001b[0mX\u001b[0m\u001b[0;34m,\u001b[0m \u001b[0mcmap\u001b[0m\u001b[0;34m=\u001b[0m\u001b[0mcmap\u001b[0m\u001b[0;34m,\u001b[0m \u001b[0mnorm\u001b[0m\u001b[0;34m=\u001b[0m\u001b[0mnorm\u001b[0m\u001b[0;34m,\u001b[0m \u001b[0maspect\u001b[0m\u001b[0;34m=\u001b[0m\u001b[0maspect\u001b[0m\u001b[0;34m,\u001b[0m\u001b[0;34m\u001b[0m\u001b[0;34m\u001b[0m\u001b[0m\n\u001b[1;32m   2647\u001b[0m         \u001b[0minterpolation\u001b[0m\u001b[0;34m=\u001b[0m\u001b[0minterpolation\u001b[0m\u001b[0;34m,\u001b[0m \u001b[0malpha\u001b[0m\u001b[0;34m=\u001b[0m\u001b[0malpha\u001b[0m\u001b[0;34m,\u001b[0m \u001b[0mvmin\u001b[0m\u001b[0;34m=\u001b[0m\u001b[0mvmin\u001b[0m\u001b[0;34m,\u001b[0m\u001b[0;34m\u001b[0m\u001b[0;34m\u001b[0m\u001b[0m\n",
            "\u001b[0;32m/usr/local/lib/python3.8/dist-packages/matplotlib/__init__.py\u001b[0m in \u001b[0;36minner\u001b[0;34m(ax, data, *args, **kwargs)\u001b[0m\n\u001b[1;32m   1563\u001b[0m     \u001b[0;32mdef\u001b[0m \u001b[0minner\u001b[0m\u001b[0;34m(\u001b[0m\u001b[0max\u001b[0m\u001b[0;34m,\u001b[0m \u001b[0;34m*\u001b[0m\u001b[0margs\u001b[0m\u001b[0;34m,\u001b[0m \u001b[0mdata\u001b[0m\u001b[0;34m=\u001b[0m\u001b[0;32mNone\u001b[0m\u001b[0;34m,\u001b[0m \u001b[0;34m**\u001b[0m\u001b[0mkwargs\u001b[0m\u001b[0;34m)\u001b[0m\u001b[0;34m:\u001b[0m\u001b[0;34m\u001b[0m\u001b[0;34m\u001b[0m\u001b[0m\n\u001b[1;32m   1564\u001b[0m         \u001b[0;32mif\u001b[0m \u001b[0mdata\u001b[0m \u001b[0;32mis\u001b[0m \u001b[0;32mNone\u001b[0m\u001b[0;34m:\u001b[0m\u001b[0;34m\u001b[0m\u001b[0;34m\u001b[0m\u001b[0m\n\u001b[0;32m-> 1565\u001b[0;31m             \u001b[0;32mreturn\u001b[0m \u001b[0mfunc\u001b[0m\u001b[0;34m(\u001b[0m\u001b[0max\u001b[0m\u001b[0;34m,\u001b[0m \u001b[0;34m*\u001b[0m\u001b[0mmap\u001b[0m\u001b[0;34m(\u001b[0m\u001b[0msanitize_sequence\u001b[0m\u001b[0;34m,\u001b[0m \u001b[0margs\u001b[0m\u001b[0;34m)\u001b[0m\u001b[0;34m,\u001b[0m \u001b[0;34m**\u001b[0m\u001b[0mkwargs\u001b[0m\u001b[0;34m)\u001b[0m\u001b[0;34m\u001b[0m\u001b[0;34m\u001b[0m\u001b[0m\n\u001b[0m\u001b[1;32m   1566\u001b[0m \u001b[0;34m\u001b[0m\u001b[0m\n\u001b[1;32m   1567\u001b[0m         \u001b[0mbound\u001b[0m \u001b[0;34m=\u001b[0m \u001b[0mnew_sig\u001b[0m\u001b[0;34m.\u001b[0m\u001b[0mbind\u001b[0m\u001b[0;34m(\u001b[0m\u001b[0max\u001b[0m\u001b[0;34m,\u001b[0m \u001b[0;34m*\u001b[0m\u001b[0margs\u001b[0m\u001b[0;34m,\u001b[0m \u001b[0;34m**\u001b[0m\u001b[0mkwargs\u001b[0m\u001b[0;34m)\u001b[0m\u001b[0;34m\u001b[0m\u001b[0;34m\u001b[0m\u001b[0m\n",
            "\u001b[0;32m/usr/local/lib/python3.8/dist-packages/matplotlib/cbook/deprecation.py\u001b[0m in \u001b[0;36mwrapper\u001b[0;34m(*args, **kwargs)\u001b[0m\n\u001b[1;32m    356\u001b[0m                 \u001b[0;34mf\"%(removal)s.  If any parameter follows {name!r}, they \"\u001b[0m\u001b[0;34m\u001b[0m\u001b[0;34m\u001b[0m\u001b[0m\n\u001b[1;32m    357\u001b[0m                 f\"should be pass as keyword, not positionally.\")\n\u001b[0;32m--> 358\u001b[0;31m         \u001b[0;32mreturn\u001b[0m \u001b[0mfunc\u001b[0m\u001b[0;34m(\u001b[0m\u001b[0;34m*\u001b[0m\u001b[0margs\u001b[0m\u001b[0;34m,\u001b[0m \u001b[0;34m**\u001b[0m\u001b[0mkwargs\u001b[0m\u001b[0;34m)\u001b[0m\u001b[0;34m\u001b[0m\u001b[0;34m\u001b[0m\u001b[0m\n\u001b[0m\u001b[1;32m    359\u001b[0m \u001b[0;34m\u001b[0m\u001b[0m\n\u001b[1;32m    360\u001b[0m     \u001b[0;32mreturn\u001b[0m \u001b[0mwrapper\u001b[0m\u001b[0;34m\u001b[0m\u001b[0;34m\u001b[0m\u001b[0m\n",
            "\u001b[0;32m/usr/local/lib/python3.8/dist-packages/matplotlib/cbook/deprecation.py\u001b[0m in \u001b[0;36mwrapper\u001b[0;34m(*args, **kwargs)\u001b[0m\n\u001b[1;32m    356\u001b[0m                 \u001b[0;34mf\"%(removal)s.  If any parameter follows {name!r}, they \"\u001b[0m\u001b[0;34m\u001b[0m\u001b[0;34m\u001b[0m\u001b[0m\n\u001b[1;32m    357\u001b[0m                 f\"should be pass as keyword, not positionally.\")\n\u001b[0;32m--> 358\u001b[0;31m         \u001b[0;32mreturn\u001b[0m \u001b[0mfunc\u001b[0m\u001b[0;34m(\u001b[0m\u001b[0;34m*\u001b[0m\u001b[0margs\u001b[0m\u001b[0;34m,\u001b[0m \u001b[0;34m**\u001b[0m\u001b[0mkwargs\u001b[0m\u001b[0;34m)\u001b[0m\u001b[0;34m\u001b[0m\u001b[0;34m\u001b[0m\u001b[0m\n\u001b[0m\u001b[1;32m    359\u001b[0m \u001b[0;34m\u001b[0m\u001b[0m\n\u001b[1;32m    360\u001b[0m     \u001b[0;32mreturn\u001b[0m \u001b[0mwrapper\u001b[0m\u001b[0;34m\u001b[0m\u001b[0;34m\u001b[0m\u001b[0m\n",
            "\u001b[0;32m/usr/local/lib/python3.8/dist-packages/matplotlib/axes/_axes.py\u001b[0m in \u001b[0;36mimshow\u001b[0;34m(self, X, cmap, norm, aspect, interpolation, alpha, vmin, vmax, origin, extent, shape, filternorm, filterrad, imlim, resample, url, **kwargs)\u001b[0m\n\u001b[1;32m   5624\u001b[0m                               resample=resample, **kwargs)\n\u001b[1;32m   5625\u001b[0m \u001b[0;34m\u001b[0m\u001b[0m\n\u001b[0;32m-> 5626\u001b[0;31m         \u001b[0mim\u001b[0m\u001b[0;34m.\u001b[0m\u001b[0mset_data\u001b[0m\u001b[0;34m(\u001b[0m\u001b[0mX\u001b[0m\u001b[0;34m)\u001b[0m\u001b[0;34m\u001b[0m\u001b[0;34m\u001b[0m\u001b[0m\n\u001b[0m\u001b[1;32m   5627\u001b[0m         \u001b[0mim\u001b[0m\u001b[0;34m.\u001b[0m\u001b[0mset_alpha\u001b[0m\u001b[0;34m(\u001b[0m\u001b[0malpha\u001b[0m\u001b[0;34m)\u001b[0m\u001b[0;34m\u001b[0m\u001b[0;34m\u001b[0m\u001b[0m\n\u001b[1;32m   5628\u001b[0m         \u001b[0;32mif\u001b[0m \u001b[0mim\u001b[0m\u001b[0;34m.\u001b[0m\u001b[0mget_clip_path\u001b[0m\u001b[0;34m(\u001b[0m\u001b[0;34m)\u001b[0m \u001b[0;32mis\u001b[0m \u001b[0;32mNone\u001b[0m\u001b[0;34m:\u001b[0m\u001b[0;34m\u001b[0m\u001b[0;34m\u001b[0m\u001b[0m\n",
            "\u001b[0;32m/usr/local/lib/python3.8/dist-packages/matplotlib/image.py\u001b[0m in \u001b[0;36mset_data\u001b[0;34m(self, A)\u001b[0m\n\u001b[1;32m    691\u001b[0m         if (self._A.dtype != np.uint8 and\n\u001b[1;32m    692\u001b[0m                 not np.can_cast(self._A.dtype, float, \"same_kind\")):\n\u001b[0;32m--> 693\u001b[0;31m             raise TypeError(\"Image data of dtype {} cannot be converted to \"\n\u001b[0m\u001b[1;32m    694\u001b[0m                             \"float\".format(self._A.dtype))\n\u001b[1;32m    695\u001b[0m \u001b[0;34m\u001b[0m\u001b[0m\n",
            "\u001b[0;31mTypeError\u001b[0m: Image data of dtype object cannot be converted to float"
          ]
        },
        {
          "output_type": "display_data",
          "data": {
            "text/plain": [
              "<Figure size 432x288 with 1 Axes>"
            ],
            "image/png": "[encoded data removed]"
          },
          "metadata": {
            "needs_background": "light"
          }
        }
      ]
    },
    {
      "cell_type": "code",
      "execution_count": null,
      "id": "21fb256f",
      "metadata": {
        "id": "21fb256f",
        "outputId": "543d86e7-e173-45ce-f5b0-0b41e9915a36",
        "colab": {
          "base_uri": "https://localhost:8080/",
          "height": 165
        }
      },
      "outputs": [
        {
          "output_type": "error",
          "ename": "NameError",
          "evalue": "ignored",
          "traceback": [
            "\u001b[0;31m---------------------------------------------------------------------------\u001b[0m",
            "\u001b[0;31mNameError\u001b[0m                                 Traceback (most recent call last)",
            "\u001b[0;32m<ipython-input-1-da8339d56712>\u001b[0m in \u001b[0;36m<module>\u001b[0;34m\u001b[0m\n\u001b[0;32m----> 1\u001b[0;31m \u001b[0mcrop_img\u001b[0m \u001b[0;34m=\u001b[0m \u001b[0mimg\u001b[0m\u001b[0;34m[\u001b[0m\u001b[0;36m50\u001b[0m\u001b[0;34m:\u001b[0m\u001b[0;36m150\u001b[0m\u001b[0;34m,\u001b[0m \u001b[0;36m100\u001b[0m\u001b[0;34m:\u001b[0m\u001b[0;36m150\u001b[0m\u001b[0;34m]\u001b[0m\u001b[0;34m\u001b[0m\u001b[0;34m\u001b[0m\u001b[0m\n\u001b[0m",
            "\u001b[0;31mNameError\u001b[0m: name 'img' is not defined"
          ]
        }
      ],
      "source": [
        "crop_img = img[50:150, 100:150]"
      ]
    },
    {
      "cell_type": "code",
      "execution_count": null,
      "id": "1ee5f7f2",
      "metadata": {
        "collapsed": true,
        "id": "1ee5f7f2"
      },
      "outputs": [],
      "source": [
        "plt.imshow(crop_img)"
      ]
    },
    {
      "cell_type": "code",
      "execution_count": null,
      "id": "31c03025",
      "metadata": {
        "collapsed": true,
        "id": "31c03025"
      },
      "outputs": [],
      "source": [
        "img_rgb = cv2.cvtColor(crop_img, cv2.COLOR_BGR2RGB)\n",
        "plt.imshow(img_rgb)"
      ]
    },
    {
      "cell_type": "code",
      "execution_count": null,
      "id": "6cb55c1a",
      "metadata": {
        "collapsed": true,
        "id": "6cb55c1a"
      },
      "outputs": [],
      "source": [
        "img_gray = cv2.imread('img_4.jpeg', cv2.IMREAD_GRAYSCALE)\n",
        "plt.imshow(img_gray)"
      ]
    },
    {
      "cell_type": "code",
      "execution_count": null,
      "id": "3d2690a3",
      "metadata": {
        "collapsed": true,
        "id": "3d2690a3"
      },
      "outputs": [],
      "source": [
        "plt.imshow(img_gray, cmap = 'gray')"
      ]
    },
    {
      "cell_type": "code",
      "execution_count": null,
      "id": "37e5fca9",
      "metadata": {
        "id": "37e5fca9"
      },
      "outputs": [],
      "source": [
        "img_rgb.shape"
      ]
    },
    {
      "cell_type": "code",
      "execution_count": null,
      "id": "d86c9adc",
      "metadata": {
        "collapsed": true,
        "id": "d86c9adc"
      },
      "outputs": [],
      "source": [
        "img_gray.shape"
      ]
    },
    {
      "cell_type": "code",
      "execution_count": null,
      "id": "694251b2",
      "metadata": {
        "collapsed": true,
        "id": "694251b2"
      },
      "outputs": [],
      "source": [
        "img_s1 = cv2.resize(img_rgb, (100, 50))\n",
        "plt.imshow(img_s1)"
      ]
    },
    {
      "cell_type": "code",
      "execution_count": null,
      "id": "90c573e6",
      "metadata": {
        "collapsed": true,
        "id": "90c573e6"
      },
      "outputs": [],
      "source": [
        "#RESIZE BY RATIO\n",
        "\n",
        "w_r = 0.25\n",
        "h_r = 0.25\n",
        "\n",
        "img_ratio = cv2.resize(img_rgb, (0, 0), img_rgb, w_r, h_r)\n",
        "plt.imshow(img_ratio)"
      ]
    },
    {
      "cell_type": "code",
      "execution_count": null,
      "id": "ccfce6b7",
      "metadata": {
        "collapsed": true,
        "id": "ccfce6b7"
      },
      "outputs": [],
      "source": [
        "# FLIPPING\n",
        "\n",
        "flp1 = cv2.flip(img, 0)\n",
        "plt.imshow(flp1)"
      ]
    },
    {
      "cell_type": "code",
      "execution_count": null,
      "id": "fbff8c73",
      "metadata": {
        "collapsed": true,
        "id": "fbff8c73"
      },
      "outputs": [],
      "source": [
        "flp2 = cv2.flip(img, 1)\n",
        "plt.imshow(flp2)"
      ]
    },
    {
      "cell_type": "code",
      "execution_count": null,
      "id": "9fc46532",
      "metadata": {
        "collapsed": true,
        "id": "9fc46532"
      },
      "outputs": [],
      "source": [
        "flp = cv2.flip(img, -1)\n",
        "plt.imshow(flp)"
      ]
    },
    {
      "cell_type": "code",
      "execution_count": null,
      "id": "240c9f6e",
      "metadata": {
        "collapsed": true,
        "id": "240c9f6e"
      },
      "outputs": [],
      "source": [
        "cv2.imwrite('flip_img_1.jpeg', flp)"
      ]
    },
    {
      "cell_type": "code",
      "execution_count": null,
      "id": "ccdfffcc",
      "metadata": {
        "collapsed": true,
        "id": "ccdfffcc"
      },
      "outputs": [],
      "source": [
        "# FIGURE SIZE\n",
        "\n",
        "fig = plt.figure(figsize = (10, 50))\n",
        "plt.imshow(img_gray)"
      ]
    },
    {
      "cell_type": "code",
      "execution_count": null,
      "id": "0ddddc44",
      "metadata": {
        "collapsed": true,
        "id": "0ddddc44"
      },
      "outputs": [],
      "source": [
        "# applying threshold to convert grayscale to binary\n",
        "\n",
        "ret, thresh = cv2.threshold(img_gray, 100, 255, 0)\n",
        "plt.imshow(thresh, cmap = 'gray')"
      ]
    },
    {
      "cell_type": "code",
      "execution_count": null,
      "id": "6ec81325",
      "metadata": {
        "collapsed": true,
        "id": "6ec81325"
      },
      "outputs": [],
      "source": [
        "# XOR OPERATION\n",
        "\n",
        "\n",
        "res_xor = cv2.bitwise_xor(flp1, flp2, mask = None)\n",
        "res_or = cv2.bitwise_or(flp1, flp2, mask = None)\n",
        "res_and = cv2.bitwise_and(flp1, flp2, mask = None)\n",
        "\n",
        "plt.imshow(res_xor, cmap = 'gray')\n",
        "plt.imshow(res_or, cmap = 'gray')\n",
        "plt.imshow(res_and, cmap = 'gray')"
      ]
    },
    {
      "cell_type": "code",
      "execution_count": null,
      "id": "bc337d62",
      "metadata": {
        "collapsed": true,
        "id": "bc337d62"
      },
      "outputs": [],
      "source": [
        "weighted_sum = cv2.addWeighted(flp1, 0.5, flp2, 0.4, 0)\n",
        "plt.imshow(weighted_sum)"
      ]
    },
    {
      "cell_type": "code",
      "execution_count": null,
      "id": "e3091158",
      "metadata": {
        "collapsed": true,
        "id": "e3091158"
      },
      "outputs": [],
      "source": [
        "weighted_sub = cv2.subtract(flp1, flp2)\n",
        "plt.imshow(weighted_sub)"
      ]
    },
    {
      "cell_type": "code",
      "execution_count": null,
      "id": "823f14d2",
      "metadata": {
        "collapsed": true,
        "id": "823f14d2"
      },
      "outputs": [],
      "source": [
        "arr = np.zeros((100, 100))\n",
        "plt.imshow(arr, cmap = 'gray')\n"
      ]
    },
    {
      "cell_type": "code",
      "execution_count": null,
      "id": "3914ff3c",
      "metadata": {
        "collapsed": true,
        "id": "3914ff3c"
      },
      "outputs": [],
      "source": [
        "arr2 = np.ones((100, 100, 3), dtype = np.uint8)\n",
        "arr2 = 255* arr2\n",
        "\n",
        "plt.imshow(arr2)"
      ]
    },
    {
      "cell_type": "code",
      "execution_count": null,
      "id": "5fa5451b",
      "metadata": {
        "collapsed": true,
        "id": "5fa5451b"
      },
      "outputs": [],
      "source": [
        "arr2\n"
      ]
    },
    {
      "cell_type": "code",
      "source": [
        "arr"
      ],
      "metadata": {
        "id": "I7gpZHgVghfB"
      },
      "id": "I7gpZHgVghfB",
      "execution_count": null,
      "outputs": []
    },
    {
      "cell_type": "code",
      "source": [],
      "metadata": {
        "id": "olr9a9Y5hdWg"
      },
      "id": "olr9a9Y5hdWg",
      "execution_count": null,
      "outputs": []
    }
  ],
  "metadata": {
    "kernelspec": {
      "display_name": "Python 3",
      "language": "python",
      "name": "python3"
    },
    "language_info": {
      "codemirror_mode": {
        "name": "ipython",
        "version": 3
      },
      "file_extension": ".py",
      "mimetype": "text/x-python",
      "name": "python",
      "nbconvert_exporter": "python",
      "pygments_lexer": "ipython3",
      "version": "3.8.8"
    },
    "colab": {
      "provenance": []
    }
  },
  "nbformat": 4,
  "nbformat_minor": 5
}